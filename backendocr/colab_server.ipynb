{
 "cells": [
  {
   "cell_type": "markdown",
   "metadata": {},
   "source": [
    "# IDP Backend Server Setup\n",
    "\n",
    "This notebook runs the FastAPI backend server with ngrok tunnel."
   ]
  },
  {
   "cell_type": "code",
   "execution_count": null,
   "metadata": {},
   "source": [
    "# Install required packages\n",
    "!pip install -q fastapi==0.110.0 \\\n",
    "    uvicorn[standard]==0.27.1 \\\n",
    "    python-multipart==0.0.9 \\\n",
    "    torch==2.2.1+cpu \\\n",
    "    transformers==4.38.2 \\\n",
    "    Pillow==10.2.0 \\\n",
    "    paddleocr==2.7.0.3 \\\n",
    "    python-magic-bin==0.4.14 \\\n",
    "    spacy==3.7.4 \\\n",
    "    pyngrok==7.1.5 \\\n",
    "    python-dotenv==1.0.1"
   ]
  },
  {
   "cell_type": "code",
   "execution_count": null,
   "metadata": {},
   "source": [
    "# Download spaCy model\n",
    "!python -m spacy download en_core_web_sm"
   ]
  },
  {
   "cell_type": "code",
   "execution_count": null,
   "metadata": {},
   "source": [
    "# Create necessary directories\n",
    "!mkdir -p models/layout models/spacy data/annotations"
   ]
  },
  {
   "cell_type": "code",
   "execution_count": null,
   "metadata": {},
   "source": [
    "%%writefile main.py\n",
    "from fastapi import FastAPI, File, UploadFile, HTTPException\n",
    "from fastapi.middleware.cors import CORSMiddleware\n",
    "from typing import Dict, Any\n",
    "import uvicorn\n",
    "from PIL import Image\n",
    "import io\n",
    "import magic\n",
    "import os\n",
    "from models.document_processor import DocumentProcessor\n",
    "\n",
    "app = FastAPI()\n",
    "\n",
    "# Configure CORS - allow all origins in development\n",
    "app.add_middleware(\n",
    "    CORSMiddleware,\n",
    "    allow_origins=[\"*\"],\n",
    "    allow_credentials=True,\n",
    "    allow_methods=[\"*\"],\n",
    "    allow_headers=[\"*\"],\n",
    ")\n",
    "\n",
    "# Initialize processor\n",
    "doc_processor = DocumentProcessor()\n",
    "\n",
    "ALLOWED_MIME_TYPES = [\n",
    "    'image/jpeg',\n",
    "    'image/png',\n",
    "    'image/tiff',\n",
    "    'application/pdf'\n",
    "]\n",
    "\n",
    "@app.post(\"/process-document\")\n",
    "async def process_document(file: UploadFile = File(...)) -> Dict[str, Any]:\n",
    "    try:\n",
    "        content = await file.read()\n",
    "        mime = magic.Magic(mime=True)\n",
    "        file_type = mime.from_buffer(content)\n",
    "        \n",
    "        if file_type not in ALLOWED_MIME_TYPES:\n",
    "            raise HTTPException(status_code=400, detail=f\"Unsupported file type: {file_type}\")\n",
    "        \n",
    "        image = Image.open(io.BytesIO(content))\n",
    "        result = doc_processor.process_image(image)\n",
    "        return result\n",
    "        \n",
    "    except Exception as e:\n",
    "        raise HTTPException(status_code=500, detail=str(e))\n",
    "\n",
    "@app.get(\"/health\")\n",
    "async def health_check():\n",
    "    return {\"status\": \"healthy\"}"
   ]
  },
  {
   "cell_type": "code",
   "execution_count": null,
   "metadata": {},
   "source": [
    "# Configure and start ngrok\n",
    "from pyngrok import ngrok\n",
    "\n",
    "# Get your token from https://dashboard.ngrok.com/get-started/your-authtoken\n",
    "NGROK_AUTH_TOKEN = \"your_ngrok_auth_token\"\n",
    "ngrok.set_auth_token(NGROK_AUTH_TOKEN)\n",
    "\n",
    "# Create tunnel\n",
    "public_url = ngrok.connect(8000)\n",
    "print(f'\\nPublic URL: {public_url}\\n')\n",
    "print('Copy this URL and update your frontend .env file with:')\n",
    "print(f'VITE_API_URL={public_url}')"
   ]
  },
  {
   "cell_type": "code",
   "execution_count": null,
   "metadata": {},
   "source": [
    "# Start the FastAPI server\n",
    "import nest_asyncio\n",
    "import uvicorn\n",
    "\n",
    "nest_asyncio.apply()\n",
    "uvicorn.run('main:app', host='0.0.0.0', port=8000)"
   ]
  }
 ],
 "metadata": {
  "accelerator": "GPU",
  "colab": {
   "name": "IDP Backend Server",
   "private_outputs": true,
   "provenance": []
  },
  "kernelspec": {
   "display_name": "Python 3",
   "language": "python",
   "name": "python3"
  }
 }
}